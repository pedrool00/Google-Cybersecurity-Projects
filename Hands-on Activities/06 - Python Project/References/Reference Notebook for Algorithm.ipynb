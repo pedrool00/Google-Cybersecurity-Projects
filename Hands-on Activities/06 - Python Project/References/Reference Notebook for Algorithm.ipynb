{
  "metadata": {
    "colab": {
      "provenance": [],
      "toc_visible": true
    },
    "kernelspec": {
      "name": "python",
      "display_name": "Python (Pyodide)",
      "language": "python"
    },
    "language_info": {
      "codemirror_mode": {
        "name": "python",
        "version": 3
      },
      "file_extension": ".py",
      "mimetype": "text/x-python",
      "name": "python",
      "nbconvert_exporter": "python",
      "pygments_lexer": "ipython3",
      "version": "3.8"
    }
  },
  "nbformat_minor": 4,
  "nbformat": 4,
  "cells": [
    {
      "cell_type": "markdown",
      "source": "# Activity: Create another algorithm",
      "metadata": {
        "id": "4w9z0bsxsL4Y"
      }
    },
    {
      "cell_type": "markdown",
      "source": "## Introduction\n\nAn important part of cybersecurity is controlling access to restricted content. You'll work with a text file containing IP addresses that are allowed to access specific restricted content at your organization.\n\nParsing a file allows security analysts to read and update the contents. Python helps analysts develop algorithms to automate the process of parsing files and keeping them up-to-date.\n\nYou'll develop an algorithm that parses this text file of IP addresses and updates the file by removing that addresses that no longer have access to the restricted content.",
      "metadata": {
        "id": "ivt8p77hCKcO"
      }
    },
    {
      "cell_type": "markdown",
      "source": "<details><summary><h2>Tips for completing this lab</h2></summary>\n\nKeep the following tips in mind:\n\n- Feel free to open the hints for additional guidance as you work on each task. \n- To enter your answer to a question, double-click the markdown cell to edit. Be sure to replace the \"[Double-click to enter your responses here.]\" with your own answer.\n- You can save your work manually by clicking File and then Save in the menu bar at the top of the notebook. \n- You can download your work locally by clicking File and then Download and then specifying your preferred file format in the menu bar at the top of the notebook. \n</details>",
      "metadata": {
        "id": "eW4pA4LsC-vb"
      }
    },
    {
      "cell_type": "markdown",
      "source": "## Scenario\n\nYou're working as a security analyst and you're responsible for developing an algorithm that parses a file containing IP addresses that are allowed to access restricted content and removes addresses that no longer have access.",
      "metadata": {
        "id": "dQ2elTOeCMNv"
      }
    },
    {
      "cell_type": "markdown",
      "source": "## Task 1\nYour eventual goal is to develop an algorithm that parses a series of IP addresses that can access restricted information and removes the addresses that are no longer allowed. Python can automate this process.\n\nYou're given a text file called `\"allow_list.txt\"` that contains a series of IP addresses that are allowed to access restricted information. \n\nThere are IP addresses that should no longer have access to this information, and their IP addresses need to be removed from the text file. You're given a variable named `remove_list` that contains the list of IP addresses to be removed.\n\nDisplay both variables to explore their contents, and run the cell.",
      "metadata": {
        "id": "zo1HFh3XsS6S"
      }
    },
    {
      "cell_type": "code",
      "source": "# Assign `import_file` to the name of the file \n\nimport_file = \"allow_list.txt\"\n\n# Assign `remove_list` to a list of IP addresses that are no longer allowed to access restricted information. \n\nremove_list = [\"192.168.97.225\", \"192.168.158.170\", \"192.168.201.40\", \"192.168.58.57\"]\n\n# Display `import_file`\n\nprint(import_file)\n\n# Display `remove_list`\n\nprint(remove_list)",
      "metadata": {
        "id": "dxeblX9m2Lva"
      },
      "execution_count": 1,
      "outputs": [
        {
          "name": "stdout",
          "output_type": "stream",
          "text": "allow_list.txt\n\n['192.168.97.225', '192.168.158.170', '192.168.201.40', '192.168.58.57']\n"
        }
      ]
    },
    {
      "cell_type": "markdown",
      "source": "<details>\n  <summary><h4><strong>Hint 1</strong></h4></summary>\n\nTo display the contents of a variable, pass it as an argument to the `print()` function.\n\n</details>",
      "metadata": {
        "id": "N4iCk5h-BEW4"
      }
    },
    {
      "cell_type": "markdown",
      "source": "#### **Question 1**\n**What do you observe about the output above?**\n",
      "metadata": {
        "id": "F5C4y6A8jWPj"
      }
    },
    {
      "cell_type": "markdown",
      "source": "Since we still didn't implement the algorithm to read the file, we are only printing the name of the allow list file.",
      "metadata": {
        "id": "_v4mWtXSmkUX"
      }
    },
    {
      "cell_type": "markdown",
      "source": "## Task 2\nIn this task, start by opening the text file using the `import_file` variable, the `with` keyword, and the `open()` function with the `\"r\"` parameter.\n\nFor now, you'll write the first line of the `with` statement. Running this code will produce an error because it will only contain the first line of the `with` statement; you'll complete this `with` statement in the task after this.",
      "metadata": {
        "id": "z0N_eEcRpZQS"
      }
    },
    {
      "cell_type": "code",
      "source": "# Assign `import_file` to the name of the file \n\nimport_file = \"allow_list.txt\"\n\n# Assign `remove_list` to a list of IP addresses that are no longer allowed to access restricted information. \n\nremove_list = [\"192.168.97.225\", \"192.168.158.170\", \"192.168.201.40\", \"192.168.58.57\"]\n\n# First line of `with` statement\n\nwith open(import_file, \"r\") as file:",
      "metadata": {
        "id": "LPVPVJKC3j01"
      },
      "execution_count": 2,
      "outputs": [
        {
          "ename": "SyntaxError",
          "evalue": "unexpected EOF while parsing (<ipython-input-2-b925af1022fc>, line 11)",
          "output_type": "error",
          "traceback": [
            "\u001b[0;36m  File \u001b[0;32m\"<ipython-input-2-b925af1022fc>\"\u001b[0;36m, line \u001b[0;32m11\u001b[0m\n\u001b[0;31m    with open(import_file, \"r\") as file:\u001b[0m\n\u001b[0m                                        ^\u001b[0m\n\u001b[0;31mSyntaxError\u001b[0m\u001b[0;31m:\u001b[0m unexpected EOF while parsing\n"
          ]
        }
      ]
    },
    {
      "cell_type": "markdown",
      "source": "<details>\n  <summary><h4><strong>Hint 1</strong></h4></summary>\n\nThe `open()` function in Python allows you to open a file. \n\nAs the first parameter, it takes in the name of the file (or a variable containing the name of the file). As the second parameter, it takes in a string that indicates how the file should be handled.\n\nPass in the letter `\"r\"` as the second parameter when you want to read the file.\n\n</details>",
      "metadata": {
        "id": "vunjTntCnYSS"
      }
    },
    {
      "cell_type": "markdown",
      "source": "## Task 3\nNow, use the `.read()` method to read the imported file and store it in a variable named `ip_addresses`. \n\nAfterwards, display `ip_addresses` to examine the data in its current format. ",
      "metadata": {
        "id": "0MpuZ_7Y3qHB"
      }
    },
    {
      "cell_type": "code",
      "source": "# Assign `import_file` to the name of the file \n\nimport_file = \"allow_list.txt\"\n\n# Assign `remove_list` to a list of IP addresses that are no longer allowed to access restricted information. \n\nremove_list = [\"192.168.97.225\", \"192.168.158.170\", \"192.168.201.40\", \"192.168.58.57\"]\n\n# Build `with` statement to read in the initial contents of the file\n\nwith open(import_file, \"r\") as file:\n\n  # Use `.read()` to read the imported file and store it in a variable named `ip_addresses`\n\n   ip_addresses = file.read()\n\n# Display `ip_addresses`\n\nprint(ip_addresses)",
      "metadata": {
        "id": "zvlBO9Eh5J4H"
      },
      "execution_count": 4,
      "outputs": [
        {
          "name": "stdout",
          "output_type": "stream",
          "text": "ip_address\n\n192.168.25.60\n\n192.168.205.12\n\n192.168.97.225\n\n192.168.6.9\n\n192.168.52.90\n\n192.168.158.170\n\n192.168.90.124\n\n192.168.186.176\n\n192.168.133.188\n\n192.168.203.198\n\n192.168.201.40\n\n192.168.218.219\n\n192.168.52.37\n\n192.168.156.224\n\n192.168.60.153\n\n192.168.58.57\n\n192.168.69.116\n\n\n"
        }
      ]
    },
    {
      "cell_type": "markdown",
      "source": "<details>\n  <summary><h4><strong>Hint 1</strong></h4></summary>\n\nThe `.read()` method in Python allows you to read in a file.\n\n</details>",
      "metadata": {
        "id": "fxll4f1K5lCm"
      }
    },
    {
      "cell_type": "markdown",
      "source": "<details>\n  <summary><h4><strong>Hint 2</strong></h4></summary>\n\nCall `file.read()` to read the imported file.\n\n</details>",
      "metadata": {
        "id": "zU2SGDi_q8_v"
      }
    },
    {
      "cell_type": "markdown",
      "source": "<details>\n  <summary><h4><strong>Hint 3</strong></h4></summary>\n\nTo display the contents of a variable, pass it as an argument to the `print()` function.\n\n</details>",
      "metadata": {
        "id": "pqh-zmUh5-qi"
      }
    },
    {
      "cell_type": "markdown",
      "source": "#### **Question 2**\n**Do you notice any IP addresses in the allow list that are also in the `remove_list`?**\n",
      "metadata": {
        "id": "MrvKB19ltc6A"
      }
    },
    {
      "cell_type": "markdown",
      "source": "Yes, since we still didn't type the proper code to remove them.",
      "metadata": {
        "id": "Tk1NmzVNuIa6"
      }
    },
    {
      "cell_type": "markdown",
      "source": "## Task 4\nAfter reading the file, reassign the `ip_addresses` variable so its data type is updated from a string to a list. Use the `.split()` method to achieve this. Adding this step will allow you to iterate through each of the IP addresses in the allow list instead of navigating a large string that contains all the addresses merged together. \n\nAfterwards, display the `ip_addresses` variable to verify that the update took place.",
      "metadata": {
        "id": "Iv06Y6Dv6CME"
      }
    },
    {
      "cell_type": "code",
      "source": "# Assign `import_file` to the name of the file \n\nimport_file = \"allow_list.txt\"\n\n# Assign `remove_list` to a list of IP addresses that are no longer allowed to access restricted information. \n\nremove_list = [\"192.168.97.225\", \"192.168.158.170\", \"192.168.201.40\", \"192.168.58.57\"]\n\n# Build `with` statement to read in the initial contents of the file\n\nwith open(import_file, \"r\") as file:\n\n  # Use `.read()` to read the imported file and store it in a variable named `ip_addresses`\n\n  ip_addresses = file.read()\n\n# Use `.split()` to convert `ip_addresses` from a string to a list\n\nip_addresses = ip_addresses.split()\n\n# Display `ip_addresses`\n\nprint(ip_addresses)",
      "metadata": {
        "id": "HB-HMhEX8jzU"
      },
      "execution_count": 5,
      "outputs": [
        {
          "name": "stdout",
          "output_type": "stream",
          "text": "['ip_address', '192.168.25.60', '192.168.205.12', '192.168.97.225', '192.168.6.9', '192.168.52.90', '192.168.158.170', '192.168.90.124', '192.168.186.176', '192.168.133.188', '192.168.203.198', '192.168.201.40', '192.168.218.219', '192.168.52.37', '192.168.156.224', '192.168.60.153', '192.168.58.57', '192.168.69.116']\n"
        }
      ]
    },
    {
      "cell_type": "markdown",
      "source": "<details>\n  <summary><h4><strong>Hint 1</strong></h4></summary>\n\nThe `.split()` method in Python allows you to convert a string to a list. This method can take in a parameter that specifies which character to split on. If a parameter is not passed in, the method will split on whitespace by default. Note that whitespace includes any space between text on the same line and the space between one line and the next line.\n\nIn this task, the default behavior of `.split()` works well. Each IP address is on a new line in the `allow_list.txt` file. In other words, there is whitespace between IP addresses in the text file. When you use `.split()`, it will separate the IP addresses and output them as a list.\n\n</details>",
      "metadata": {
        "id": "1tOgXngO82g8"
      }
    },
    {
      "cell_type": "markdown",
      "source": "<details>\n  <summary><h4><strong>Hint 2</strong></h4></summary>\n\nTo display the contents of a variable, pass it as an argument to the `print()` function.\n\n</details>",
      "metadata": {
        "id": "zLtButSu82g9"
      }
    },
    {
      "cell_type": "markdown",
      "source": "## Task 5\nNow, you'll write code that removes the elements of `remove_list` from the `ip_addresses` list. This will require both an iterative statement and a conditional statement. \n\nFirst, build the iterative statement. Name the loop variable `element`, loop through `ip_addresses`, and display each element. ",
      "metadata": {
        "id": "083QDEoV-6ZP"
      }
    },
    {
      "cell_type": "code",
      "source": "# Assign `import_file` to the name of the file \n\nimport_file = \"allow_list.txt\"\n\n# Assign `remove_list` to a list of IP addresses that are no longer allowed to access restricted information. \n\nremove_list = [\"192.168.97.225\", \"192.168.158.170\", \"192.168.201.40\", \"192.168.58.57\"]\n\n# Build `with` statement to read in the initial contents of the file\n\nwith open(import_file, \"r\") as file:\n\n  # Use `.read()` to read the imported file and store it in a variable named `ip_addresses`\n\n  ip_addresses = file.read()\n\n# Use `.split()` to convert `ip_addresses` from a string to a list\n\nip_addresses = ip_addresses.split()\n\n# Build iterative statement\n# Name loop variable `element`\n# Loop through `ip_addresses`\n\nfor element in ip_addresses:\n\n    # Display `element` in every iteration\n\n    print(element)",
      "metadata": {
        "id": "9Liw9LIH__TN"
      },
      "execution_count": 6,
      "outputs": [
        {
          "name": "stdout",
          "output_type": "stream",
          "text": "ip_address\n\n192.168.25.60\n\n192.168.205.12\n\n192.168.97.225\n\n192.168.6.9\n\n192.168.52.90\n\n192.168.158.170\n\n192.168.90.124\n\n192.168.186.176\n\n192.168.133.188\n\n192.168.203.198\n\n192.168.201.40\n\n192.168.218.219\n\n192.168.52.37\n\n192.168.156.224\n\n192.168.60.153\n\n192.168.58.57\n\n192.168.69.116\n"
        }
      ]
    },
    {
      "cell_type": "markdown",
      "source": "<details>\n  <summary><h4><strong>Hint 1</strong></h4></summary>\n\nBuild a `for` loop to iterate through `ip_addresses`. Be sure to start with the `for` keyword. Use `element` as the loop variable and use `in` as the loop condition.\n\n</details>",
      "metadata": {
        "id": "yEtm97lVAFPl"
      }
    },
    {
      "cell_type": "markdown",
      "source": "<details>\n  <summary><h4><strong>Hint 2</strong></h4></summary>\n\nTo display the contents of a variable, pass it as an argument to the `print()` function.\n\n</details>",
      "metadata": {
        "id": "hLGVwvuGAFPm"
      }
    },
    {
      "cell_type": "markdown",
      "source": "## Task 6\nNow, build a conditional statement to remove the elements of `remove_list` from the `ip_addresses` list. The conditional statement should be placed inside the iterative statement that loops through `ip_addresses`. In every iteration, if the current element in the `ip_addresses` list is in the `remove_list`, the `remove()` method should be used to remove that element. \n\nAfterwards, display the updated `ip_addresses` list to verify that the elements of remove_list are no longer in the `ip_addresses`. ",
      "metadata": {
        "id": "BJ1SEHvrCHP5"
      }
    },
    {
      "cell_type": "code",
      "source": "# Assign `import_file` to the name of the file \n\nimport_file = \"allow_list.txt\"\n\n# Assign `remove_list` to a list of IP addresses that are no longer allowed to access restricted information. \n\nremove_list = [\"192.168.97.225\", \"192.168.158.170\", \"192.168.201.40\", \"192.168.58.57\"]\n\n# Build `with` statement to read in the initial contents of the file\n\nwith open(import_file, \"r\") as file:\n\n  # Use `.read()` to read the imported file and store it in a variable named `ip_addresses`\n\n  ip_addresses = file.read()\n\n# Use `.split()` to convert `ip_addresses` from a string to a list\n\nip_addresses = ip_addresses.split()\n\n# Build iterative statement\n# Name loop variable `element`\n# Loop through `ip_addresses`\n\nfor element in ip_addresses:\n  \n  # Build conditional statement\n  # If current element is in `remove_list`,\n  \n    if element in remove_list:\n\n        # then current element should be removed from `ip_addresses`\n\n        ip_addresses.remove(element)\n\n# Display `ip_addresses` \n\nprint(ip_addresses)",
      "metadata": {
        "id": "hINEYp9pEZuy"
      },
      "execution_count": 7,
      "outputs": [
        {
          "name": "stdout",
          "output_type": "stream",
          "text": "['ip_address', '192.168.25.60', '192.168.205.12', '192.168.6.9', '192.168.52.90', '192.168.90.124', '192.168.186.176', '192.168.133.188', '192.168.203.198', '192.168.218.219', '192.168.52.37', '192.168.156.224', '192.168.60.153', '192.168.69.116']\n"
        }
      ]
    },
    {
      "cell_type": "markdown",
      "source": "<details>\n  <summary><h4><strong>Hint 1</strong></h4></summary>\n\nWhen building the conditional statement, use the `in` operator to check if `element` is in `remove_list`. \n\n</details>",
      "metadata": {
        "id": "vo345gwoFYBZ"
      }
    },
    {
      "cell_type": "markdown",
      "source": "<details>\n  <summary><h4><strong>Hint 2</strong></h4></summary>\n\nTo remove `element` from `ip_addresses`, call the `.remove()` method on `ip_addresses`, and pass in `element`.\n\n</details>",
      "metadata": {
        "id": "NDPkfbp3FYBZ"
      }
    },
    {
      "cell_type": "markdown",
      "source": "<details>\n  <summary><h4><strong>Hint 3</strong></h4></summary>\n\nTo remove `element` from `ip_addresses`, call `ip_addresses.remove()` and pass in `element`.\n\n</details>",
      "metadata": {
        "id": "r8_PSeXMF7O2"
      }
    },
    {
      "cell_type": "markdown",
      "source": "## Task 7\nThe next step is to update the original file that was used to create the `ip_addresses` list. A line of code containing the `.join()` method has been added to the code so that the file can be updated. This is necessary because `ip_addresses` must be in string format when used inside the `with` statement to rewrite the file.\n\nThe `.join()` method takes in an iterable (such as a list) and concatenates every element of it into a string. The `.join()` method is applied to a string consisting of the character that will be used to separate every element in the iterable once its converted into a string. In the code below, the method is applied to the string `\" \"`, which contains just a space character. The argument of the `.join()` method is the iterable you want to convert, and in this case, that's `ip_addresses`. As a result, it converts `ip_addresses` from a list back into a string with a space between each element and the next.\n\nAfter this line with the `.join()` method, build the `with` statement that rewrites the original file. Use the `\"w\"` parameter when calling the `open()` function to delete the contents in the original file and replace it with what you want to write.",
      "metadata": {
        "id": "Y6tImjeD3h6L"
      }
    },
    {
      "cell_type": "code",
      "source": "# Assign `import_file` to the name of the file \n\nimport_file = \"allow_list.txt\"\n\n# Assign `remove_list` to a list of IP addresses that are no longer allowed to access restricted information. \n\nremove_list = [\"192.168.97.225\", \"192.168.158.170\", \"192.168.201.40\", \"192.168.58.57\"]\n\n# Build `with` statement to read in the initial contents of the file\n\nwith open(import_file, \"r\") as file:\n\n  # Use `.read()` to read the imported file and store it in a variable named `ip_addresses`\n\n  ip_addresses = file.read()\n\n# Use `.split()` to convert `ip_addresses` from a string to a list\n\nip_addresses = ip_addresses.split()\n\n# Build iterative statement\n# Name loop variable `element`\n# Loop through `ip_addresses`\n\nfor element in ip_addresses:\n  \n  # Build conditional statement\n  # If current element is in `remove_list`,\n  \n    if element in remove_list:\n\n        # then current element should be removed from `ip_addresses`\n\n        ip_addresses.remove(element)\n\n# Convert `ip_addresses` back to a string so that it can be written into the text file \n\nip_addresses = \" \".join(ip_addresses)    \n\n# Build `with` statement to rewrite the original file\n\nwith open(import_file, \"w\") as file:\n\n  # Rewrite the file, replacing its contents with `ip_addresses`\n\n  file.write(ip_addresses)",
      "metadata": {
        "id": "kuCDsf-AHHLL"
      },
      "execution_count": 8,
      "outputs": []
    },
    {
      "cell_type": "markdown",
      "source": "<details>\n  <summary><h4><strong>Hint 1</strong></h4></summary>\n\nTo complete the first line of the `with` statement, call the `open()` function and pass in the name of the file as the first parameter and the letter `\"w\"` as the second parameter. \n\nThe `\"w\"` parameter specifies that you're opening the file for the purpose of writing to it. \n\n</details>",
      "metadata": {
        "id": "XcVVj9ikHO_9"
      }
    },
    {
      "cell_type": "markdown",
      "source": "<details>\n  <summary><h4><strong>Hint 2</strong></h4></summary>\n\nInside the `with` statement, call the `.write()` method to replace the contents of the file with the data stored in `ip_addresses`.\n\n</details>",
      "metadata": {
        "id": "fC8HQty-HO_-"
      }
    },
    {
      "cell_type": "markdown",
      "source": "<details>\n  <summary><h4><strong>Hint 3</strong></h4></summary>\n\nInside the `with` statement, call `file.write()` and pass in `ip_addresses`.\n\n</details>",
      "metadata": {
        "id": "3t12UIDSHO_-"
      }
    },
    {
      "cell_type": "markdown",
      "source": "## Task 8\nIn this task, you'll verify that the original file was rewritten using the correct list. \n\nWrite another `with` statement, this time to read in the updated file. Start by opening the file. Then read the file and store its contents in the `text` variable. \n\nAfterwards, display the `text` variable to examine the result.",
      "metadata": {
        "id": "MPeELiLnJNMI"
      }
    },
    {
      "cell_type": "code",
      "source": "# Assign `import_file` to the name of the file \n\nimport_file = \"allow_list.txt\"\n\n# Assign `remove_list` to a list of IP addresses that are no longer allowed to access restricted information. \n\nremove_list = [\"192.168.97.225\", \"192.168.158.170\", \"192.168.201.40\", \"192.168.58.57\"]\n\n# Build `with` statement to read in the initial contents of the file\n\nwith open(import_file, \"r\") as file:\n\n  # Use `.read()` to read the imported file and store it in a variable named `ip_addresses`\n\n  ip_addresses = file.read()\n\n# Use `.split()` to convert `ip_addresses` from a string to a list\n\nip_addresses = ip_addresses.split()\n\n# Build iterative statement\n# Name loop variable `element`\n# Loop through `ip_addresses`\n\nfor element in ip_addresses:\n  \n  # Build conditional statement\n  # If current element is in `remove_list`,\n  \n    if element in remove_list:\n\n        # then current element should be removed from `ip_addresses`\n\n        ip_addresses.remove(element)\n\n# Convert `ip_addresses` back to a string so that it can be written into the text file \n\nip_addresses = \" \".join(ip_addresses)       \n\n# Build `with` statement to rewrite the original file\n\nwith open(import_file, \"w\") as file:\n\n  # Rewrite the file, replacing its contents with `ip_addresses`\n\n  file.write(ip_addresses)\n\n# Build `with` statement to read in the updated file\n\nwith open(import_file, \"r\") as file:\n\n    # Read in the updated file and store the contents in `text`\n\n    text = file.read()\n\n# Display the contents of `text`\n\nprint(text)",
      "metadata": {
        "id": "s0dlsfrPKd_q"
      },
      "execution_count": 9,
      "outputs": [
        {
          "name": "stdout",
          "output_type": "stream",
          "text": "ip_address 192.168.25.60 192.168.205.12 192.168.6.9 192.168.52.90 192.168.90.124 192.168.186.176 192.168.133.188 192.168.203.198 192.168.218.219 192.168.52.37 192.168.156.224 192.168.60.153 192.168.69.116\n"
        }
      ]
    },
    {
      "cell_type": "markdown",
      "source": "<details>\n  <summary><h4><strong>Hint 1</strong></h4></summary>\n\nTo complete the first line of the `with` statement, call the `open()` function and pass in the name of the file as the first parameter and the letter `\"r\"` as the second parameter. \n\nThe `\"r\"` parameter specifies that you're opening the file for the purpose of reading it. \n\n</details>",
      "metadata": {
        "id": "gy2Q1UkUKmRz"
      }
    },
    {
      "cell_type": "markdown",
      "source": "<details>\n  <summary><h4><strong>Hint 2</strong></h4></summary>\n\nInside the `with` statement, call the `.read()` method to read the contents of the file. Assign the `text` variable to the result. \n\n</details>",
      "metadata": {
        "id": "tAXScw4mKmRz"
      }
    },
    {
      "cell_type": "markdown",
      "source": "<details>\n  <summary><h4><strong>Hint 3</strong></h4></summary>\n\nTo display the contents of a variable, pass it as an argument to the `print()` function.\n\n</details>",
      "metadata": {
        "id": "0tZZIM12K7rg"
      }
    },
    {
      "cell_type": "markdown",
      "source": "## Task 9\nThe next step is to bring all of the code you've written leading up to this point and put it all into one function. \n\nDefine a function named `update_file()` that takes in two parameters. The first parameter is the name of the text file that contains IP addresses (call this parameter `import_file`). The second parameter is a list that contains IP addresses to be removed (call this parameter `remove_list`).",
      "metadata": {
        "id": "R1WDqLt_K9U7"
      }
    },
    {
      "cell_type": "code",
      "source": "# Define a function named `update_file` that takes in two parameters: `import_file` and `remove_list`\n# and combines the steps you've written in this lab leading up to this\n\ndef update_file (import_file, remove_list):\n\n    # Build `with` statement to read in the initial contents of the file\n\n    with open(import_file, \"r\") as file:\n\n        # Use `.read()` to read the imported file and store it in a variable named `ip_addresses`\n\n        ip_addresses = file.read()\n\n    # Use `.split()` to convert `ip_addresses` from a string to a list\n\n    ip_addresses = ip_addresses.split()\n\n    # Build iterative statement\n    # Name loop variable `element`\n    # Loop through `ip_addresses`\n\n    for element in ip_addresses:\n\n        # Build conditional statement\n        # If current element is in `remove_list`,\n\n        if element in remove_list:\n\n            # then current element should be removed from `ip_addresses`\n\n            ip_addresses.remove(element)\n\n    # Convert `ip_addresses` back to a string so that it can be written into the text file \n\n    ip_addresses = \" \".join(ip_addresses)       \n\n    # Build `with` statement to rewrite the original file\n\n    with open(import_file, \"w\") as file:\n\n        # Rewrite the file, replacing its contents with `ip_addresses`\n\n        file.write(ip_addresses)",
      "metadata": {
        "id": "rmoz_SD4NBbj"
      },
      "execution_count": 10,
      "outputs": []
    },
    {
      "cell_type": "markdown",
      "source": "<details>\n  <summary><h4><strong>Hint 1</strong></h4></summary>\n\nUse the `def` keyword to start the function definition. \n\n</details>",
      "metadata": {
        "id": "3VpUpR6Zey9V"
      }
    },
    {
      "cell_type": "markdown",
      "source": "<details>\n  <summary><h4><strong>Hint 2</strong></h4></summary>\n\nAfter the `def` keyword, specify the name of the function, followed by parantheses and a colon. Inside the parantheses, specify the parameters that the function takes in.\n\n</details>",
      "metadata": {
        "id": "uoGt3HqQey9f"
      }
    },
    {
      "cell_type": "markdown",
      "source": "<details>\n  <summary><h4><strong>Hint 3</strong></h4></summary>\n\nAfter the `def` keyword, write `update_file(import_file, remove_list):` to complete the function definition header.\n\n</details>",
      "metadata": {
        "id": "WxLVS38vhOxi"
      }
    },
    {
      "cell_type": "markdown",
      "source": "#### **Question 3**\n**What are the benefits of incorporating the algorithm into a single function?**",
      "metadata": {
        "id": "cD0hgjRLuS98"
      }
    },
    {
      "cell_type": "markdown",
      "source": "The benefit is that if we want to improve the program by adding more code and functionality, it will be easier to make modifications by separating each algorithm into a function. Also, it improves readibility and allows to call the algorithm several times.",
      "metadata": {
        "id": "Y5UWYLeDvPXh"
      }
    },
    {
      "cell_type": "markdown",
      "source": "## Task 10\nFinally, call the `update_file()` that you defined. Apply the function to `\"allow_list.txt\"` and pass in a list of IP addresses as the second argument.\n\nUse the following list of IP addresses as the second argument: \n\n`[\"192.168.25.60\", \"192.168.140.81\", \"192.168.203.198\"]`\n\nAfter the function call, use a `with` statement to read the contents of the allow list. Then display the contents of the allow list. Run it to verify that the file has been updated by the function.",
      "metadata": {
        "id": "WM9ON3JkxcOL"
      }
    },
    {
      "cell_type": "code",
      "source": "# Define a function named `update_file` that takes in two parameters: `import_file` and `remove_list`\n# and combines the steps you've written in this lab leading up to this\n\ndef update_file(import_file, remove_list):\n\n  # Build `with` statement to read in the initial contents of the file\n\n  with open(import_file, \"r\") as file:\n\n    # Use `.read()` to read the imported file and store it in a variable named `ip_addresses`\n\n    ip_addresses = file.read()\n\n  # Use `.split()` to convert `ip_addresses` from a string to a list\n\n  ip_addresses = ip_addresses.split()\n\n  # Build iterative statement\n  # Name loop variable `element`\n  # Loop through `ip_addresses`\n\n  for element in ip_addresses:\n    \n    # Build conditional statement\n    # If current element is in `remove_list`,\n    \n    if element in remove_list:\n\n      # then current element should be removed from `ip_addresses`\n\n      ip_addresses.remove(element)\n\n  # Convert `ip_addresses` back to a string so that it can be written into the text file \n\n  ip_addresses = \" \".join(ip_addresses)       \n\n  # Build `with` statement to rewrite the original file\n\n  with open(import_file, \"w\") as file:\n\n    # Rewrite the file, replacing its contents with `ip_addresses`\n\n    file.write(ip_addresses)\n\n# Call `update_file()` and pass in \"allow_list.txt\" and a list of IP addresses to be removed\n\nupdate_file(\"allow_list.txt\", [\"192.168.25.60\", \"192.168.140.81\", \"192.168.203.198\"])\n\n# Build `with` statement to read in the updated file\n\nwith open(\"allow_list.txt\", \"r\") as file:\n\n  # Read in the updated file and store the contents in `text`\n\n  text = file.read()\n\n# Display the contents of `text`\n\nprint(text)",
      "metadata": {
        "id": "YO87XukHRSC1"
      },
      "execution_count": 13,
      "outputs": [
        {
          "name": "stdout",
          "output_type": "stream",
          "text": "ip_address 192.168.205.12 192.168.6.9 192.168.52.90 192.168.90.124 192.168.186.176 192.168.133.188 192.168.218.219 192.168.52.37 192.168.156.224 192.168.60.153 192.168.69.116\n"
        }
      ]
    },
    {
      "cell_type": "markdown",
      "source": "<details>\n  <summary><h4><strong>Hint 1</strong></h4></summary>\n\nTo call the `update_file()` function, write the name of the function, followed by parantheses, and pass in the file name and list of IP addresses that you want to try out the function on. Be sure to separate the two arguments with a comma (`,`). \n\n</details>",
      "metadata": {
        "id": "UoVsVe37RkfT"
      }
    },
    {
      "cell_type": "markdown",
      "source": "<details>\n  <summary><h4><strong>Hint 2</strong></h4></summary>\n\nInside the `with` statement, call the `.read()` method to read the contents of the file. Assign the `text` variable to the result. \n\n</details>",
      "metadata": {
        "id": "CFB8ClVxRkfU"
      }
    },
    {
      "cell_type": "markdown",
      "source": "<details>\n  <summary><h4><strong>Hint 3</strong></h4></summary>\n\nTo display the contents of the `text` variable, pass it as an argument to the `print()` function.\n\n</details>",
      "metadata": {
        "id": "pPpQTn_uRkfU"
      }
    },
    {
      "cell_type": "markdown",
      "source": "## Conclusion\n\n**What are your key takeaways from this lab?**",
      "metadata": {
        "id": "ru2ytGBLCh4q"
      }
    },
    {
      "cell_type": "markdown",
      "source": "We used the knowledge acquired in every section up to this point to create an algorithm capable of reading a file containing IP addresses, removing a list of flagged IP addresses from it, and then updating the original list, filtering out the unouthorized IPs.",
      "metadata": {
        "id": "ls2WEGqsiSAd"
      }
    }
  ]
}